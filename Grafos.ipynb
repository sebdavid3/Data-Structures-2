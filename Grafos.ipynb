{
  "nbformat": 4,
  "nbformat_minor": 0,
  "metadata": {
    "colab": {
      "provenance": [],
      "include_colab_link": true
    },
    "kernelspec": {
      "name": "python3",
      "display_name": "Python 3"
    },
    "language_info": {
      "name": "python"
    }
  },
  "cells": [
    {
      "cell_type": "markdown",
      "metadata": {
        "id": "view-in-github",
        "colab_type": "text"
      },
      "source": [
        "<a href=\"https://colab.research.google.com/github/sebdavid3/Data-Structures-2/blob/main/Grafos.ipynb\" target=\"_parent\"><img src=\"https://colab.research.google.com/assets/colab-badge.svg\" alt=\"Open In Colab\"/></a>"
      ]
    },
    {
      "cell_type": "markdown",
      "source": [
        "# **Grafos**"
      ],
      "metadata": {
        "id": "T177BlH6RP7_"
      }
    },
    {
      "cell_type": "code",
      "source": [
        "import graphviz as gv\n",
        "\n",
        "from pprint import pprint\n",
        "from queue import Queue\n",
        "from typing import List"
      ],
      "metadata": {
        "id": "FWe1uYJPg3O8"
      },
      "execution_count": null,
      "outputs": []
    },
    {
      "cell_type": "markdown",
      "source": [
        "## **Matriz de adyacencia:**"
      ],
      "metadata": {
        "id": "fyPTJ9YliXRj"
      }
    },
    {
      "cell_type": "code",
      "execution_count": null,
      "metadata": {
        "id": "H77shsGeRL5S"
      },
      "outputs": [],
      "source": [
        "class GraphMatrix:\n",
        "\n",
        "    def __init__(self, n: int) -> None:\n",
        "        self.n = n\n",
        "        self.A: List[List[int]] = [[0 for i in range(self.n)] for j in range(self.n)]\n",
        "\n",
        "    def add_edge(self, vi: int, vf: int) -> bool:\n",
        "        if not ((0 <= vi < self.n) and (0 <= vf < self.n)):\n",
        "            return False\n",
        "        self.A[vi][vf] = self.A[vf][vi] = 1\n",
        "        return True\n",
        "\n",
        "    def plot(self) -> \"gv.Graph\":\n",
        "        graph = gv.Graph()\n",
        "        for i in range(self.n):\n",
        "            graph.node(f'{i}', f'{i}')\n",
        "        for i in range(self.n):\n",
        "            for j in range(i + 1, self.n):\n",
        "                if self.A[i][j]:\n",
        "                    graph.edge(f'{i}', f'{j}')\n",
        "        return graph\n",
        "\n",
        "    def DFS(self, v: int, logs: bool = True) -> None:\n",
        "        visit = [False] * self.n\n",
        "        self.__DFS_visit(v, visit, logs)\n",
        "\n",
        "    def __DFS_visit(self, v: int, visit: List[bool], logs: bool = True) -> List[bool]:\n",
        "        visit[v] = True\n",
        "        if logs:\n",
        "            print(v, end = ' ')\n",
        "        for vk in range(self.n):\n",
        "            if self.A[v][vk] and not visit[vk]:\n",
        "                visit = self.__DFS_visit(vk, visit, logs)\n",
        "        return visit\n",
        "\n",
        "    def BFS(self, v: int, logs: bool = True) -> None:\n",
        "        q = Queue()\n",
        "        visit = [False] * self.n\n",
        "        visit[v] = True\n",
        "        q.put(v)\n",
        "        while not q.empty():\n",
        "            v = q.get()\n",
        "            if logs:\n",
        "                print(v, end = ' ')\n",
        "            for vk in range(self.n):\n",
        "                if self.A[v][vk] and not visit[vk]:\n",
        "                    visit[vk] = True\n",
        "                    q.put(vk)\n",
        "\n",
        "    def degree(self, v: int) -> int:\n",
        "        pass\n",
        "\n",
        "    def min_degree(self) -> int:\n",
        "        return min(self.degree_sequence())\n",
        "\n",
        "    def max_degree(self) -> int:\n",
        "        return max(self.degree_sequence())\n",
        "\n",
        "    def degree_sequence(self) -> List[int]:\n",
        "        pass\n",
        "\n",
        "    def number_of_components(self) -> int:\n",
        "        pass\n",
        "\n",
        "    def is_connected(self) -> bool:\n",
        "        return self.number_of_components() == 1\n",
        "\n",
        "    def path(self, vi: int, vf: int) -> List[int]:\n",
        "        pass\n",
        "\n",
        "    def is_eulerian(self) -> bool:\n",
        "        pass\n",
        "\n",
        "    def is_semieulerian(self) -> bool:\n",
        "        pass\n",
        "\n",
        "    def is_r_regular(self, r: int) -> bool:\n",
        "        pass\n",
        "\n",
        "    def is_complete(self) -> bool:\n",
        "        pass\n",
        "\n",
        "    def is_acyclic(self) -> bool:\n",
        "        pass"
      ]
    },
    {
      "cell_type": "code",
      "source": [
        "G1 = GraphMatrix(13)\n",
        "G1.add_edge(0, 1)\n",
        "G1.add_edge(0, 2)\n",
        "G1.add_edge(0, 3)\n",
        "G1.add_edge(1, 3)\n",
        "G1.add_edge(1, 4)\n",
        "G1.add_edge(2, 3)\n",
        "G1.add_edge(2, 5)\n",
        "G1.add_edge(2, 6)\n",
        "G1.add_edge(3, 5)\n",
        "G1.add_edge(3, 6)\n",
        "G1.add_edge(3, 7)\n",
        "G1.add_edge(4, 7)\n",
        "G1.add_edge(4, 8)\n",
        "G1.add_edge(5, 9)\n",
        "G1.add_edge(6, 9)\n",
        "G1.add_edge(7, 10)\n",
        "G1.add_edge(8, 10)\n",
        "G1.add_edge(8, 11)\n",
        "G1.add_edge(9, 10)\n",
        "G1.add_edge(9, 12)\n",
        "G1.add_edge(10, 12)\n",
        "G1.add_edge(11, 12)"
      ],
      "metadata": {
        "colab": {
          "base_uri": "https://localhost:8080/"
        },
        "id": "QxFTQmx0g66S",
        "outputId": "a82982a6-b461-4405-8bc9-853e1cc2d158"
      },
      "execution_count": null,
      "outputs": [
        {
          "output_type": "execute_result",
          "data": {
            "text/plain": [
              "True"
            ]
          },
          "metadata": {},
          "execution_count": 8
        }
      ]
    },
    {
      "cell_type": "code",
      "source": [
        "pprint(G1.A)"
      ],
      "metadata": {
        "colab": {
          "base_uri": "https://localhost:8080/"
        },
        "id": "eJjEL91shvXc",
        "outputId": "3187cf2c-fedf-48e7-99e0-f6f046bec093"
      },
      "execution_count": null,
      "outputs": [
        {
          "output_type": "stream",
          "name": "stdout",
          "text": [
            "[[0, 1, 1, 1, 0, 0, 0, 0, 0, 0, 0, 0, 0],\n",
            " [1, 0, 0, 1, 1, 0, 0, 0, 0, 0, 0, 0, 0],\n",
            " [1, 0, 0, 1, 0, 1, 1, 0, 0, 0, 0, 0, 0],\n",
            " [1, 1, 1, 0, 0, 1, 1, 1, 0, 0, 0, 0, 0],\n",
            " [0, 1, 0, 0, 0, 0, 0, 1, 1, 0, 0, 0, 0],\n",
            " [0, 0, 1, 1, 0, 0, 0, 0, 0, 1, 0, 0, 0],\n",
            " [0, 0, 1, 1, 0, 0, 0, 0, 0, 1, 0, 0, 0],\n",
            " [0, 0, 0, 1, 1, 0, 0, 0, 0, 0, 1, 0, 0],\n",
            " [0, 0, 0, 0, 1, 0, 0, 0, 0, 0, 1, 1, 0],\n",
            " [0, 0, 0, 0, 0, 1, 1, 0, 0, 0, 1, 0, 1],\n",
            " [0, 0, 0, 0, 0, 0, 0, 1, 1, 1, 0, 0, 1],\n",
            " [0, 0, 0, 0, 0, 0, 0, 0, 1, 0, 0, 0, 1],\n",
            " [0, 0, 0, 0, 0, 0, 0, 0, 0, 1, 1, 1, 0]]\n"
          ]
        }
      ]
    },
    {
      "cell_type": "code",
      "source": [
        "G1.plot()"
      ],
      "metadata": {
        "colab": {
          "base_uri": "https://localhost:8080/",
          "height": 656
        },
        "id": "YJcy0ovKkdOw",
        "outputId": "265b2cf5-9415-4f43-db47-dd34428aa56c"
      },
      "execution_count": null,
      "outputs": [
        {
          "output_type": "execute_result",
          "data": {
            "image/svg+xml": "<?xml version=\"1.0\" encoding=\"UTF-8\" standalone=\"no\"?>\n<!DOCTYPE svg PUBLIC \"-//W3C//DTD SVG 1.1//EN\"\n \"http://www.w3.org/Graphics/SVG/1.1/DTD/svg11.dtd\">\n<!-- Generated by graphviz version 2.43.0 (0)\n -->\n<!-- Title: %3 Pages: 1 -->\n<svg width=\"261pt\" height=\"476pt\"\n viewBox=\"0.00 0.00 261.00 476.00\" xmlns=\"http://www.w3.org/2000/svg\" xmlns:xlink=\"http://www.w3.org/1999/xlink\">\n<g id=\"graph0\" class=\"graph\" transform=\"scale(1 1) rotate(0) translate(4 472)\">\n<title>%3</title>\n<polygon fill=\"white\" stroke=\"transparent\" points=\"-4,4 -4,-472 257,-472 257,4 -4,4\"/>\n<!-- 0 -->\n<g id=\"node1\" class=\"node\">\n<title>0</title>\n<ellipse fill=\"none\" stroke=\"black\" cx=\"145\" cy=\"-450\" rx=\"27\" ry=\"18\"/>\n<text text-anchor=\"middle\" x=\"145\" y=\"-446.3\" font-family=\"Times,serif\" font-size=\"14.00\">0</text>\n</g>\n<!-- 1 -->\n<g id=\"node2\" class=\"node\">\n<title>1</title>\n<ellipse fill=\"none\" stroke=\"black\" cx=\"200\" cy=\"-378\" rx=\"27\" ry=\"18\"/>\n<text text-anchor=\"middle\" x=\"200\" y=\"-374.3\" font-family=\"Times,serif\" font-size=\"14.00\">1</text>\n</g>\n<!-- 0&#45;&#45;1 -->\n<g id=\"edge1\" class=\"edge\">\n<title>0&#45;&#45;1</title>\n<path fill=\"none\" stroke=\"black\" d=\"M156.93,-433.81C166.16,-422.07 178.87,-405.89 188.09,-394.16\"/>\n</g>\n<!-- 2 -->\n<g id=\"node3\" class=\"node\">\n<title>2</title>\n<ellipse fill=\"none\" stroke=\"black\" cx=\"90\" cy=\"-378\" rx=\"27\" ry=\"18\"/>\n<text text-anchor=\"middle\" x=\"90\" y=\"-374.3\" font-family=\"Times,serif\" font-size=\"14.00\">2</text>\n</g>\n<!-- 0&#45;&#45;2 -->\n<g id=\"edge2\" class=\"edge\">\n<title>0&#45;&#45;2</title>\n<path fill=\"none\" stroke=\"black\" d=\"M133.07,-433.81C123.84,-422.07 111.13,-405.89 101.91,-394.16\"/>\n</g>\n<!-- 3 -->\n<g id=\"node4\" class=\"node\">\n<title>3</title>\n<ellipse fill=\"none\" stroke=\"black\" cx=\"145\" cy=\"-306\" rx=\"27\" ry=\"18\"/>\n<text text-anchor=\"middle\" x=\"145\" y=\"-302.3\" font-family=\"Times,serif\" font-size=\"14.00\">3</text>\n</g>\n<!-- 0&#45;&#45;3 -->\n<g id=\"edge3\" class=\"edge\">\n<title>0&#45;&#45;3</title>\n<path fill=\"none\" stroke=\"black\" d=\"M145,-431.87C145,-404.58 145,-351.52 145,-324.19\"/>\n</g>\n<!-- 1&#45;&#45;3 -->\n<g id=\"edge4\" class=\"edge\">\n<title>1&#45;&#45;3</title>\n<path fill=\"none\" stroke=\"black\" d=\"M188.07,-361.81C178.84,-350.07 166.13,-333.89 156.91,-322.16\"/>\n</g>\n<!-- 4 -->\n<g id=\"node5\" class=\"node\">\n<title>4</title>\n<ellipse fill=\"none\" stroke=\"black\" cx=\"209\" cy=\"-234\" rx=\"27\" ry=\"18\"/>\n<text text-anchor=\"middle\" x=\"209\" y=\"-230.3\" font-family=\"Times,serif\" font-size=\"14.00\">4</text>\n</g>\n<!-- 1&#45;&#45;4 -->\n<g id=\"edge5\" class=\"edge\">\n<title>1&#45;&#45;4</title>\n<path fill=\"none\" stroke=\"black\" d=\"M201.09,-359.87C202.82,-332.58 206.18,-279.52 207.91,-252.19\"/>\n</g>\n<!-- 2&#45;&#45;3 -->\n<g id=\"edge6\" class=\"edge\">\n<title>2&#45;&#45;3</title>\n<path fill=\"none\" stroke=\"black\" d=\"M101.93,-361.81C111.16,-350.07 123.87,-333.89 133.09,-322.16\"/>\n</g>\n<!-- 5 -->\n<g id=\"node6\" class=\"node\">\n<title>5</title>\n<ellipse fill=\"none\" stroke=\"black\" cx=\"27\" cy=\"-234\" rx=\"27\" ry=\"18\"/>\n<text text-anchor=\"middle\" x=\"27\" y=\"-230.3\" font-family=\"Times,serif\" font-size=\"14.00\">5</text>\n</g>\n<!-- 2&#45;&#45;5 -->\n<g id=\"edge7\" class=\"edge\">\n<title>2&#45;&#45;5</title>\n<path fill=\"none\" stroke=\"black\" d=\"M82.65,-360.43C70.51,-333.07 46.41,-278.75 34.3,-251.46\"/>\n</g>\n<!-- 6 -->\n<g id=\"node7\" class=\"node\">\n<title>6</title>\n<ellipse fill=\"none\" stroke=\"black\" cx=\"99\" cy=\"-234\" rx=\"27\" ry=\"18\"/>\n<text text-anchor=\"middle\" x=\"99\" y=\"-230.3\" font-family=\"Times,serif\" font-size=\"14.00\">6</text>\n</g>\n<!-- 2&#45;&#45;6 -->\n<g id=\"edge8\" class=\"edge\">\n<title>2&#45;&#45;6</title>\n<path fill=\"none\" stroke=\"black\" d=\"M91.09,-359.87C92.82,-332.58 96.18,-279.52 97.91,-252.19\"/>\n</g>\n<!-- 3&#45;&#45;5 -->\n<g id=\"edge9\" class=\"edge\">\n<title>3&#45;&#45;5</title>\n<path fill=\"none\" stroke=\"black\" d=\"M125.51,-293.44C103.65,-280.47 68.39,-259.55 46.51,-246.58\"/>\n</g>\n<!-- 3&#45;&#45;6 -->\n<g id=\"edge10\" class=\"edge\">\n<title>3&#45;&#45;6</title>\n<path fill=\"none\" stroke=\"black\" d=\"M134.56,-289.12C127.03,-277.66 116.92,-262.26 109.4,-250.82\"/>\n</g>\n<!-- 7 -->\n<g id=\"node8\" class=\"node\">\n<title>7</title>\n<ellipse fill=\"none\" stroke=\"black\" cx=\"154\" cy=\"-162\" rx=\"27\" ry=\"18\"/>\n<text text-anchor=\"middle\" x=\"154\" y=\"-158.3\" font-family=\"Times,serif\" font-size=\"14.00\">7</text>\n</g>\n<!-- 3&#45;&#45;7 -->\n<g id=\"edge11\" class=\"edge\">\n<title>3&#45;&#45;7</title>\n<path fill=\"none\" stroke=\"black\" d=\"M146.09,-287.87C147.82,-260.58 151.18,-207.52 152.91,-180.19\"/>\n</g>\n<!-- 4&#45;&#45;7 -->\n<g id=\"edge12\" class=\"edge\">\n<title>4&#45;&#45;7</title>\n<path fill=\"none\" stroke=\"black\" d=\"M197.07,-217.81C187.84,-206.07 175.13,-189.89 165.91,-178.16\"/>\n</g>\n<!-- 8 -->\n<g id=\"node9\" class=\"node\">\n<title>8</title>\n<ellipse fill=\"none\" stroke=\"black\" cx=\"226\" cy=\"-162\" rx=\"27\" ry=\"18\"/>\n<text text-anchor=\"middle\" x=\"226\" y=\"-158.3\" font-family=\"Times,serif\" font-size=\"14.00\">8</text>\n</g>\n<!-- 4&#45;&#45;8 -->\n<g id=\"edge13\" class=\"edge\">\n<title>4&#45;&#45;8</title>\n<path fill=\"none\" stroke=\"black\" d=\"M213.12,-216.05C215.75,-205.21 219.16,-191.18 221.8,-180.28\"/>\n</g>\n<!-- 9 -->\n<g id=\"node10\" class=\"node\">\n<title>9</title>\n<ellipse fill=\"none\" stroke=\"black\" cx=\"82\" cy=\"-162\" rx=\"27\" ry=\"18\"/>\n<text text-anchor=\"middle\" x=\"82\" y=\"-158.3\" font-family=\"Times,serif\" font-size=\"14.00\">9</text>\n</g>\n<!-- 5&#45;&#45;9 -->\n<g id=\"edge14\" class=\"edge\">\n<title>5&#45;&#45;9</title>\n<path fill=\"none\" stroke=\"black\" d=\"M38.93,-217.81C48.16,-206.07 60.87,-189.89 70.09,-178.16\"/>\n</g>\n<!-- 6&#45;&#45;9 -->\n<g id=\"edge15\" class=\"edge\">\n<title>6&#45;&#45;9</title>\n<path fill=\"none\" stroke=\"black\" d=\"M94.88,-216.05C92.25,-205.21 88.84,-191.18 86.2,-180.28\"/>\n</g>\n<!-- 10 -->\n<g id=\"node11\" class=\"node\">\n<title>10</title>\n<ellipse fill=\"none\" stroke=\"black\" cx=\"154\" cy=\"-90\" rx=\"27\" ry=\"18\"/>\n<text text-anchor=\"middle\" x=\"154\" y=\"-86.3\" font-family=\"Times,serif\" font-size=\"14.00\">10</text>\n</g>\n<!-- 7&#45;&#45;10 -->\n<g id=\"edge16\" class=\"edge\">\n<title>7&#45;&#45;10</title>\n<path fill=\"none\" stroke=\"black\" d=\"M154,-143.7C154,-132.85 154,-118.92 154,-108.1\"/>\n</g>\n<!-- 8&#45;&#45;10 -->\n<g id=\"edge17\" class=\"edge\">\n<title>8&#45;&#45;10</title>\n<path fill=\"none\" stroke=\"black\" d=\"M211.43,-146.83C199.02,-134.77 181.27,-117.51 168.8,-105.38\"/>\n</g>\n<!-- 11 -->\n<g id=\"node12\" class=\"node\">\n<title>11</title>\n<ellipse fill=\"none\" stroke=\"black\" cx=\"226\" cy=\"-90\" rx=\"27\" ry=\"18\"/>\n<text text-anchor=\"middle\" x=\"226\" y=\"-86.3\" font-family=\"Times,serif\" font-size=\"14.00\">11</text>\n</g>\n<!-- 8&#45;&#45;11 -->\n<g id=\"edge18\" class=\"edge\">\n<title>8&#45;&#45;11</title>\n<path fill=\"none\" stroke=\"black\" d=\"M226,-143.7C226,-132.85 226,-118.92 226,-108.1\"/>\n</g>\n<!-- 9&#45;&#45;10 -->\n<g id=\"edge19\" class=\"edge\">\n<title>9&#45;&#45;10</title>\n<path fill=\"none\" stroke=\"black\" d=\"M96.57,-146.83C108.98,-134.77 126.73,-117.51 139.2,-105.38\"/>\n</g>\n<!-- 12 -->\n<g id=\"node13\" class=\"node\">\n<title>12</title>\n<ellipse fill=\"none\" stroke=\"black\" cx=\"154\" cy=\"-18\" rx=\"27\" ry=\"18\"/>\n<text text-anchor=\"middle\" x=\"154\" y=\"-14.3\" font-family=\"Times,serif\" font-size=\"14.00\">12</text>\n</g>\n<!-- 9&#45;&#45;12 -->\n<g id=\"edge20\" class=\"edge\">\n<title>9&#45;&#45;12</title>\n<path fill=\"none\" stroke=\"black\" d=\"M87.62,-144.12C93.97,-125.86 105.12,-96.11 118,-72 125.02,-58.85 134.56,-44.95 142.05,-34.68\"/>\n</g>\n<!-- 10&#45;&#45;12 -->\n<g id=\"edge21\" class=\"edge\">\n<title>10&#45;&#45;12</title>\n<path fill=\"none\" stroke=\"black\" d=\"M154,-71.7C154,-60.85 154,-46.92 154,-36.1\"/>\n</g>\n<!-- 11&#45;&#45;12 -->\n<g id=\"edge22\" class=\"edge\">\n<title>11&#45;&#45;12</title>\n<path fill=\"none\" stroke=\"black\" d=\"M211.43,-74.83C199.02,-62.77 181.27,-45.51 168.8,-33.38\"/>\n</g>\n</g>\n</svg>\n",
            "text/plain": [
              "<graphviz.graphs.Graph at 0x7c1092c01300>"
            ]
          },
          "metadata": {},
          "execution_count": 10
        }
      ]
    },
    {
      "cell_type": "code",
      "source": [
        "G1.DFS(0)"
      ],
      "metadata": {
        "colab": {
          "base_uri": "https://localhost:8080/"
        },
        "id": "7ZfOACiuqP_V",
        "outputId": "dc95c229-3dca-4563-b081-b2f1124f6602"
      },
      "execution_count": null,
      "outputs": [
        {
          "output_type": "stream",
          "name": "stdout",
          "text": [
            "0 1 3 2 5 9 6 10 7 4 8 11 12 "
          ]
        }
      ]
    },
    {
      "cell_type": "code",
      "source": [
        "G1.BFS(5)"
      ],
      "metadata": {
        "colab": {
          "base_uri": "https://localhost:8080/"
        },
        "id": "jTnjz2nnrPhO",
        "outputId": "79da7aaf-2109-4f69-c7e4-55423edeffa2"
      },
      "execution_count": null,
      "outputs": [
        {
          "output_type": "stream",
          "name": "stdout",
          "text": [
            "5 2 3 9 0 6 1 7 10 12 4 8 11 "
          ]
        }
      ]
    },
    {
      "cell_type": "markdown",
      "source": [
        "## **Lista de adyacencia:**"
      ],
      "metadata": {
        "id": "eczNyq_7iMzT"
      }
    },
    {
      "cell_type": "code",
      "source": [
        "class GraphList:\n",
        "\n",
        "    def __init__(self) -> None:\n",
        "        self.n = 0\n",
        "        self.L: List[List[int]] = []\n",
        "\n",
        "    def add_vertex(self) -> None:\n",
        "        self.L.append([])\n",
        "        self.n += 1\n",
        "\n",
        "    def add_edge(self, vi: int, vf: int) -> bool:\n",
        "        if not ((0 <= vi < self.n) and (0 <= vf < self.n)):\n",
        "            return False\n",
        "        self.L[vi].append(vf)\n",
        "        self.L[vi].sort()\n",
        "        self.L[vf].append(vi)\n",
        "        self.L[vf].sort()\n",
        "        return True\n",
        "\n",
        "    def plot(self) -> \"gv.Graph\":\n",
        "        graph = gv.Graph()\n",
        "        for i in range(self.n):\n",
        "            graph.node(f'{i}', f'{i}')\n",
        "        edges = []\n",
        "        for l, i in zip(self.L, range(self.n)):\n",
        "            for j in l:\n",
        "                if not ((i, j) in edges or (j, i) in edges):\n",
        "                    graph.edge(f'{i}', f'{j}')\n",
        "                    edges.append((i, j))\n",
        "        return graph\n",
        "\n",
        "    def DFS(self, v: int, logs: bool = True) -> None:\n",
        "        visit = [False] * self.n\n",
        "        self.__DFS_visit(v, visit, logs)\n",
        "\n",
        "    def __DFS_visit(self, v: int, visit: List[bool], logs: bool = True) -> List[bool]:\n",
        "        visit[v] = True\n",
        "        if logs:\n",
        "            print(v, end = ' ')\n",
        "        for vk in self.L[v]:\n",
        "            if not visit[vk]:\n",
        "                visit = self.__DFS_visit(vk, visit, logs)\n",
        "        return visit\n",
        "\n",
        "    def BFS(self, v: int, logs: bool = True) -> None:\n",
        "        q = Queue()\n",
        "        visit = [False] * self.n\n",
        "        visit[v] = True\n",
        "        q.put(v)\n",
        "        while not q.empty():\n",
        "            v = q.get()\n",
        "            if logs:\n",
        "                print(v, end = ' ')\n",
        "            for vk in self.L[v]:\n",
        "                if not visit[vk]:\n",
        "                    visit[vk] = True\n",
        "                    q.put(vk)\n",
        "\n",
        "    def degree(self, v: int) -> int:\n",
        "        pass\n",
        "\n",
        "    def min_degree(self) -> int:\n",
        "        return min(self.degree_sequence())\n",
        "\n",
        "    def max_degree(self) -> int:\n",
        "        return max(self.degree_sequence())\n",
        "\n",
        "    def degree_sequence(self) -> List[int]:\n",
        "        pass\n",
        "\n",
        "    def number_of_components(self) -> int:\n",
        "        pass\n",
        "\n",
        "    def is_connected(self) -> bool:\n",
        "        return self.number_of_components() == 1\n",
        "\n",
        "    def path(self, vi: int, vf: int) -> List[int]:\n",
        "        pass\n",
        "\n",
        "    def is_eulerian(self) -> bool:\n",
        "        pass\n",
        "\n",
        "    def is_semieulerian(self) -> bool:\n",
        "        pass\n",
        "\n",
        "    def is_r_regular(self, r: int) -> bool:\n",
        "        pass\n",
        "\n",
        "    def is_complete(self) -> bool:\n",
        "        pass\n",
        "\n",
        "    def is_acyclic(self) -> bool:\n",
        "        pass"
      ],
      "metadata": {
        "id": "eJs_ipGTicql"
      },
      "execution_count": null,
      "outputs": []
    },
    {
      "cell_type": "code",
      "source": [
        "G2 = GraphList()\n",
        "\n",
        "for i in range(13):\n",
        "    G2.add_vertex()\n",
        "\n",
        "G2.add_edge(0, 1)\n",
        "G2.add_edge(0, 2)\n",
        "G2.add_edge(0, 3)\n",
        "G2.add_edge(1, 3)\n",
        "G2.add_edge(1, 4)\n",
        "G2.add_edge(2, 3)\n",
        "G2.add_edge(2, 5)\n",
        "G2.add_edge(2, 6)\n",
        "G2.add_edge(3, 5)\n",
        "G2.add_edge(3, 6)\n",
        "G2.add_edge(3, 7)\n",
        "G2.add_edge(4, 7)\n",
        "G2.add_edge(4, 8)\n",
        "G2.add_edge(5, 9)\n",
        "G2.add_edge(6, 9)\n",
        "G2.add_edge(7, 10)\n",
        "G2.add_edge(8, 10)\n",
        "G2.add_edge(8, 11)\n",
        "G2.add_edge(9, 10)\n",
        "G2.add_edge(9, 12)\n",
        "G2.add_edge(10, 12)\n",
        "G2.add_edge(11, 12)"
      ],
      "metadata": {
        "colab": {
          "base_uri": "https://localhost:8080/"
        },
        "id": "xZS00L8XjkfA",
        "outputId": "e590f3e2-2492-4dbf-dd26-3baf07b3a957"
      },
      "execution_count": null,
      "outputs": [
        {
          "output_type": "execute_result",
          "data": {
            "text/plain": [
              "True"
            ]
          },
          "metadata": {},
          "execution_count": 16
        }
      ]
    },
    {
      "cell_type": "code",
      "source": [
        "pprint(G2.L)"
      ],
      "metadata": {
        "colab": {
          "base_uri": "https://localhost:8080/"
        },
        "id": "uJ6oZmcOj2CA",
        "outputId": "4b88fe2c-2c65-4aed-d5dc-d171646cbd9f"
      },
      "execution_count": null,
      "outputs": [
        {
          "output_type": "stream",
          "name": "stdout",
          "text": [
            "[[1, 2, 3],\n",
            " [0, 3, 4],\n",
            " [0, 3, 5, 6],\n",
            " [0, 1, 2, 5, 6, 7],\n",
            " [1, 7, 8],\n",
            " [2, 3, 9],\n",
            " [2, 3, 9],\n",
            " [3, 4, 10],\n",
            " [4, 10, 11],\n",
            " [5, 6, 10, 12],\n",
            " [7, 8, 9, 12],\n",
            " [8, 12],\n",
            " [9, 10, 11]]\n"
          ]
        }
      ]
    },
    {
      "cell_type": "code",
      "source": [
        "G2.plot()"
      ],
      "metadata": {
        "colab": {
          "base_uri": "https://localhost:8080/",
          "height": 656
        },
        "id": "HfRItx4MmJA0",
        "outputId": "6c11f0b5-d441-46ca-a9bd-c217dc0dcc76"
      },
      "execution_count": null,
      "outputs": [
        {
          "output_type": "execute_result",
          "data": {
            "image/svg+xml": "<?xml version=\"1.0\" encoding=\"UTF-8\" standalone=\"no\"?>\n<!DOCTYPE svg PUBLIC \"-//W3C//DTD SVG 1.1//EN\"\n \"http://www.w3.org/Graphics/SVG/1.1/DTD/svg11.dtd\">\n<!-- Generated by graphviz version 2.43.0 (0)\n -->\n<!-- Title: %3 Pages: 1 -->\n<svg width=\"261pt\" height=\"476pt\"\n viewBox=\"0.00 0.00 261.00 476.00\" xmlns=\"http://www.w3.org/2000/svg\" xmlns:xlink=\"http://www.w3.org/1999/xlink\">\n<g id=\"graph0\" class=\"graph\" transform=\"scale(1 1) rotate(0) translate(4 472)\">\n<title>%3</title>\n<polygon fill=\"white\" stroke=\"transparent\" points=\"-4,4 -4,-472 257,-472 257,4 -4,4\"/>\n<!-- 0 -->\n<g id=\"node1\" class=\"node\">\n<title>0</title>\n<ellipse fill=\"none\" stroke=\"black\" cx=\"145\" cy=\"-450\" rx=\"27\" ry=\"18\"/>\n<text text-anchor=\"middle\" x=\"145\" y=\"-446.3\" font-family=\"Times,serif\" font-size=\"14.00\">0</text>\n</g>\n<!-- 1 -->\n<g id=\"node2\" class=\"node\">\n<title>1</title>\n<ellipse fill=\"none\" stroke=\"black\" cx=\"200\" cy=\"-378\" rx=\"27\" ry=\"18\"/>\n<text text-anchor=\"middle\" x=\"200\" y=\"-374.3\" font-family=\"Times,serif\" font-size=\"14.00\">1</text>\n</g>\n<!-- 0&#45;&#45;1 -->\n<g id=\"edge1\" class=\"edge\">\n<title>0&#45;&#45;1</title>\n<path fill=\"none\" stroke=\"black\" d=\"M156.93,-433.81C166.16,-422.07 178.87,-405.89 188.09,-394.16\"/>\n</g>\n<!-- 2 -->\n<g id=\"node3\" class=\"node\">\n<title>2</title>\n<ellipse fill=\"none\" stroke=\"black\" cx=\"90\" cy=\"-378\" rx=\"27\" ry=\"18\"/>\n<text text-anchor=\"middle\" x=\"90\" y=\"-374.3\" font-family=\"Times,serif\" font-size=\"14.00\">2</text>\n</g>\n<!-- 0&#45;&#45;2 -->\n<g id=\"edge2\" class=\"edge\">\n<title>0&#45;&#45;2</title>\n<path fill=\"none\" stroke=\"black\" d=\"M133.07,-433.81C123.84,-422.07 111.13,-405.89 101.91,-394.16\"/>\n</g>\n<!-- 3 -->\n<g id=\"node4\" class=\"node\">\n<title>3</title>\n<ellipse fill=\"none\" stroke=\"black\" cx=\"145\" cy=\"-306\" rx=\"27\" ry=\"18\"/>\n<text text-anchor=\"middle\" x=\"145\" y=\"-302.3\" font-family=\"Times,serif\" font-size=\"14.00\">3</text>\n</g>\n<!-- 0&#45;&#45;3 -->\n<g id=\"edge3\" class=\"edge\">\n<title>0&#45;&#45;3</title>\n<path fill=\"none\" stroke=\"black\" d=\"M145,-431.87C145,-404.58 145,-351.52 145,-324.19\"/>\n</g>\n<!-- 1&#45;&#45;3 -->\n<g id=\"edge4\" class=\"edge\">\n<title>1&#45;&#45;3</title>\n<path fill=\"none\" stroke=\"black\" d=\"M188.07,-361.81C178.84,-350.07 166.13,-333.89 156.91,-322.16\"/>\n</g>\n<!-- 4 -->\n<g id=\"node5\" class=\"node\">\n<title>4</title>\n<ellipse fill=\"none\" stroke=\"black\" cx=\"209\" cy=\"-234\" rx=\"27\" ry=\"18\"/>\n<text text-anchor=\"middle\" x=\"209\" y=\"-230.3\" font-family=\"Times,serif\" font-size=\"14.00\">4</text>\n</g>\n<!-- 1&#45;&#45;4 -->\n<g id=\"edge5\" class=\"edge\">\n<title>1&#45;&#45;4</title>\n<path fill=\"none\" stroke=\"black\" d=\"M201.09,-359.87C202.82,-332.58 206.18,-279.52 207.91,-252.19\"/>\n</g>\n<!-- 2&#45;&#45;3 -->\n<g id=\"edge6\" class=\"edge\">\n<title>2&#45;&#45;3</title>\n<path fill=\"none\" stroke=\"black\" d=\"M101.93,-361.81C111.16,-350.07 123.87,-333.89 133.09,-322.16\"/>\n</g>\n<!-- 5 -->\n<g id=\"node6\" class=\"node\">\n<title>5</title>\n<ellipse fill=\"none\" stroke=\"black\" cx=\"27\" cy=\"-234\" rx=\"27\" ry=\"18\"/>\n<text text-anchor=\"middle\" x=\"27\" y=\"-230.3\" font-family=\"Times,serif\" font-size=\"14.00\">5</text>\n</g>\n<!-- 2&#45;&#45;5 -->\n<g id=\"edge7\" class=\"edge\">\n<title>2&#45;&#45;5</title>\n<path fill=\"none\" stroke=\"black\" d=\"M82.65,-360.43C70.51,-333.07 46.41,-278.75 34.3,-251.46\"/>\n</g>\n<!-- 6 -->\n<g id=\"node7\" class=\"node\">\n<title>6</title>\n<ellipse fill=\"none\" stroke=\"black\" cx=\"99\" cy=\"-234\" rx=\"27\" ry=\"18\"/>\n<text text-anchor=\"middle\" x=\"99\" y=\"-230.3\" font-family=\"Times,serif\" font-size=\"14.00\">6</text>\n</g>\n<!-- 2&#45;&#45;6 -->\n<g id=\"edge8\" class=\"edge\">\n<title>2&#45;&#45;6</title>\n<path fill=\"none\" stroke=\"black\" d=\"M91.09,-359.87C92.82,-332.58 96.18,-279.52 97.91,-252.19\"/>\n</g>\n<!-- 3&#45;&#45;5 -->\n<g id=\"edge9\" class=\"edge\">\n<title>3&#45;&#45;5</title>\n<path fill=\"none\" stroke=\"black\" d=\"M125.51,-293.44C103.65,-280.47 68.39,-259.55 46.51,-246.58\"/>\n</g>\n<!-- 3&#45;&#45;6 -->\n<g id=\"edge10\" class=\"edge\">\n<title>3&#45;&#45;6</title>\n<path fill=\"none\" stroke=\"black\" d=\"M134.56,-289.12C127.03,-277.66 116.92,-262.26 109.4,-250.82\"/>\n</g>\n<!-- 7 -->\n<g id=\"node8\" class=\"node\">\n<title>7</title>\n<ellipse fill=\"none\" stroke=\"black\" cx=\"154\" cy=\"-162\" rx=\"27\" ry=\"18\"/>\n<text text-anchor=\"middle\" x=\"154\" y=\"-158.3\" font-family=\"Times,serif\" font-size=\"14.00\">7</text>\n</g>\n<!-- 3&#45;&#45;7 -->\n<g id=\"edge11\" class=\"edge\">\n<title>3&#45;&#45;7</title>\n<path fill=\"none\" stroke=\"black\" d=\"M146.09,-287.87C147.82,-260.58 151.18,-207.52 152.91,-180.19\"/>\n</g>\n<!-- 4&#45;&#45;7 -->\n<g id=\"edge12\" class=\"edge\">\n<title>4&#45;&#45;7</title>\n<path fill=\"none\" stroke=\"black\" d=\"M197.07,-217.81C187.84,-206.07 175.13,-189.89 165.91,-178.16\"/>\n</g>\n<!-- 8 -->\n<g id=\"node9\" class=\"node\">\n<title>8</title>\n<ellipse fill=\"none\" stroke=\"black\" cx=\"226\" cy=\"-162\" rx=\"27\" ry=\"18\"/>\n<text text-anchor=\"middle\" x=\"226\" y=\"-158.3\" font-family=\"Times,serif\" font-size=\"14.00\">8</text>\n</g>\n<!-- 4&#45;&#45;8 -->\n<g id=\"edge13\" class=\"edge\">\n<title>4&#45;&#45;8</title>\n<path fill=\"none\" stroke=\"black\" d=\"M213.12,-216.05C215.75,-205.21 219.16,-191.18 221.8,-180.28\"/>\n</g>\n<!-- 9 -->\n<g id=\"node10\" class=\"node\">\n<title>9</title>\n<ellipse fill=\"none\" stroke=\"black\" cx=\"82\" cy=\"-162\" rx=\"27\" ry=\"18\"/>\n<text text-anchor=\"middle\" x=\"82\" y=\"-158.3\" font-family=\"Times,serif\" font-size=\"14.00\">9</text>\n</g>\n<!-- 5&#45;&#45;9 -->\n<g id=\"edge14\" class=\"edge\">\n<title>5&#45;&#45;9</title>\n<path fill=\"none\" stroke=\"black\" d=\"M38.93,-217.81C48.16,-206.07 60.87,-189.89 70.09,-178.16\"/>\n</g>\n<!-- 6&#45;&#45;9 -->\n<g id=\"edge15\" class=\"edge\">\n<title>6&#45;&#45;9</title>\n<path fill=\"none\" stroke=\"black\" d=\"M94.88,-216.05C92.25,-205.21 88.84,-191.18 86.2,-180.28\"/>\n</g>\n<!-- 10 -->\n<g id=\"node11\" class=\"node\">\n<title>10</title>\n<ellipse fill=\"none\" stroke=\"black\" cx=\"154\" cy=\"-90\" rx=\"27\" ry=\"18\"/>\n<text text-anchor=\"middle\" x=\"154\" y=\"-86.3\" font-family=\"Times,serif\" font-size=\"14.00\">10</text>\n</g>\n<!-- 7&#45;&#45;10 -->\n<g id=\"edge16\" class=\"edge\">\n<title>7&#45;&#45;10</title>\n<path fill=\"none\" stroke=\"black\" d=\"M154,-143.7C154,-132.85 154,-118.92 154,-108.1\"/>\n</g>\n<!-- 8&#45;&#45;10 -->\n<g id=\"edge17\" class=\"edge\">\n<title>8&#45;&#45;10</title>\n<path fill=\"none\" stroke=\"black\" d=\"M211.43,-146.83C199.02,-134.77 181.27,-117.51 168.8,-105.38\"/>\n</g>\n<!-- 11 -->\n<g id=\"node12\" class=\"node\">\n<title>11</title>\n<ellipse fill=\"none\" stroke=\"black\" cx=\"226\" cy=\"-90\" rx=\"27\" ry=\"18\"/>\n<text text-anchor=\"middle\" x=\"226\" y=\"-86.3\" font-family=\"Times,serif\" font-size=\"14.00\">11</text>\n</g>\n<!-- 8&#45;&#45;11 -->\n<g id=\"edge18\" class=\"edge\">\n<title>8&#45;&#45;11</title>\n<path fill=\"none\" stroke=\"black\" d=\"M226,-143.7C226,-132.85 226,-118.92 226,-108.1\"/>\n</g>\n<!-- 9&#45;&#45;10 -->\n<g id=\"edge19\" class=\"edge\">\n<title>9&#45;&#45;10</title>\n<path fill=\"none\" stroke=\"black\" d=\"M96.57,-146.83C108.98,-134.77 126.73,-117.51 139.2,-105.38\"/>\n</g>\n<!-- 12 -->\n<g id=\"node13\" class=\"node\">\n<title>12</title>\n<ellipse fill=\"none\" stroke=\"black\" cx=\"154\" cy=\"-18\" rx=\"27\" ry=\"18\"/>\n<text text-anchor=\"middle\" x=\"154\" y=\"-14.3\" font-family=\"Times,serif\" font-size=\"14.00\">12</text>\n</g>\n<!-- 9&#45;&#45;12 -->\n<g id=\"edge20\" class=\"edge\">\n<title>9&#45;&#45;12</title>\n<path fill=\"none\" stroke=\"black\" d=\"M87.62,-144.12C93.97,-125.86 105.12,-96.11 118,-72 125.02,-58.85 134.56,-44.95 142.05,-34.68\"/>\n</g>\n<!-- 10&#45;&#45;12 -->\n<g id=\"edge21\" class=\"edge\">\n<title>10&#45;&#45;12</title>\n<path fill=\"none\" stroke=\"black\" d=\"M154,-71.7C154,-60.85 154,-46.92 154,-36.1\"/>\n</g>\n<!-- 11&#45;&#45;12 -->\n<g id=\"edge22\" class=\"edge\">\n<title>11&#45;&#45;12</title>\n<path fill=\"none\" stroke=\"black\" d=\"M211.43,-74.83C199.02,-62.77 181.27,-45.51 168.8,-33.38\"/>\n</g>\n</g>\n</svg>\n",
            "text/plain": [
              "<graphviz.graphs.Graph at 0x7c1092ba2c50>"
            ]
          },
          "metadata": {},
          "execution_count": 18
        }
      ]
    },
    {
      "cell_type": "code",
      "source": [
        "G2.DFS(0)"
      ],
      "metadata": {
        "colab": {
          "base_uri": "https://localhost:8080/"
        },
        "id": "O_BiAzgYuY9m",
        "outputId": "862104d3-a1b8-453d-d14f-bc2378e9bfff"
      },
      "execution_count": null,
      "outputs": [
        {
          "output_type": "stream",
          "name": "stdout",
          "text": [
            "0 1 3 2 5 9 6 10 7 4 8 11 12 "
          ]
        }
      ]
    },
    {
      "cell_type": "code",
      "source": [
        "G2.BFS(5)"
      ],
      "metadata": {
        "colab": {
          "base_uri": "https://localhost:8080/"
        },
        "id": "gT3nMzfEubK2",
        "outputId": "2b420bf4-4707-47bd-9986-0273a6513f09"
      },
      "execution_count": null,
      "outputs": [
        {
          "output_type": "stream",
          "name": "stdout",
          "text": [
            "5 2 3 9 0 6 1 7 10 12 4 8 11 "
          ]
        }
      ]
    }
  ]
}