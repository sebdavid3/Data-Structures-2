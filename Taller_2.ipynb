{
  "nbformat": 4,
  "nbformat_minor": 0,
  "metadata": {
    "colab": {
      "provenance": [],
      "authorship_tag": "ABX9TyPuXpm7HrKt9QclDfCyxhBz",
      "include_colab_link": true
    },
    "kernelspec": {
      "name": "python3",
      "display_name": "Python 3"
    },
    "language_info": {
      "name": "python"
    }
  },
  "cells": [
    {
      "cell_type": "markdown",
      "metadata": {
        "id": "view-in-github",
        "colab_type": "text"
      },
      "source": [
        "<a href=\"https://colab.research.google.com/github/sebdavid3/Data-Structures-2/blob/main/Taller_2.ipynb\" target=\"_parent\"><img src=\"https://colab.research.google.com/assets/colab-badge.svg\" alt=\"Open In Colab\"/></a>"
      ]
    },
    {
      "cell_type": "markdown",
      "source": [
        "**Multiplicacion de 2 numeros**\n"
      ],
      "metadata": {
        "id": "jepee0hLAeed"
      }
    },
    {
      "cell_type": "code",
      "execution_count": null,
      "metadata": {
        "colab": {
          "base_uri": "https://localhost:8080/"
        },
        "id": "ZLvjxpcDAX34",
        "outputId": "0f80f9c3-15a3-41d5-8e58-0cf230ff214b"
      },
      "outputs": [
        {
          "output_type": "stream",
          "name": "stdout",
          "text": [
            "El producto de 234567893456789 y 275348209374982374982374 es 549794635062504866543504412757271098010765256\n"
          ]
        }
      ],
      "source": [
        "def obtener_partes(num, n):\n",
        "    #Divide un número en dos partes\n",
        "    str_num = str(num)\n",
        "    mitad = len(str_num) // 2\n",
        "    return int(str_num[:mitad]), int(str_num[mitad:])\n",
        "\n",
        "def desplazar_izquierda(num, posiciones):\n",
        "    #Desplaza un numero a la izquierda\n",
        "    return num * (10 ** posiciones)\n",
        "\n",
        "def suma(num1, num2):\n",
        "    #Suma dos números\n",
        "    return num1 + num2\n",
        "\n",
        "def multiplicacion(x, y):\n",
        "    #Multiplica dos números\n",
        "    # Caso base: si los números son pequeños, multiplicarlos directamente\n",
        "    if x < 10 or y < 10:\n",
        "        return x * y\n",
        "\n",
        "    # Calcular el tamaño de los números\n",
        "    n = max(len(str(x)), len(str(y)))\n",
        "    mitad = n // 2\n",
        "\n",
        "    # Dividir los números en dos partes\n",
        "    x1, x0 = obtener_partes(x, mitad)\n",
        "    y1, y0 = obtener_partes(y, mitad)\n",
        "\n",
        "    # Recursivamente calcular los productos\n",
        "    z2 = multiplicacion(x1, y1)\n",
        "    z0 = multiplicacion(x0, y0)\n",
        "    z1 = multiplicacion(suma(x1, x0), suma(y1, y0)) - z2 - z0\n",
        "\n",
        "    # Combinar los resultados\n",
        "    return desplazar_izquierda(z2, 2 * mitad) + desplazar_izquierda(z1, mitad) + z0\n",
        "\n",
        "num1 = 234567893456789\n",
        "num2 = 275348209374982374982374\n",
        "resultado = multiplicacion(num1, num2)\n",
        "print(f\"El producto de {num1} y {num2} es {resultado}\")"
      ]
    },
    {
      "cell_type": "markdown",
      "source": [
        "**2 Puntos mas cercanos**\n"
      ],
      "metadata": {
        "id": "WwtQFouYBJob"
      }
    },
    {
      "cell_type": "code",
      "source": [
        "import math\n",
        "import random\n",
        "import time\n",
        "import matplotlib.pyplot as plt\n",
        "\n",
        "# Parámetros configurables\n",
        "NUM_PUNTOS = 500\n",
        "RANGO_X = (0, 2000)\n",
        "RANGO_Y = (0, 2000)\n",
        "\n",
        "# Clase para representar un punto en un plano 2D\n",
        "class Punto:\n",
        "    def __init__(self, x, y):\n",
        "        self.x = x\n",
        "        self.y = y\n",
        "\n",
        "# Función para calcular la distancia entre dos puntos\n",
        "def distancia(punto1, punto2):\n",
        "    return math.sqrt((punto1.x - punto2.x)**2 + (punto1.y - punto2.y)**2)\n",
        "\n",
        "# Método de fuerza bruta para encontrar la menor distancia entre dos puntos\n",
        "def fuerzaBruta(puntos, n):\n",
        "    distancia_minima = float('inf')\n",
        "    for i in range(n):\n",
        "        for j in range(i+1, n):\n",
        "            if distancia(puntos[i], puntos[j]) < distancia_minima:\n",
        "                distancia_minima = distancia(puntos[i], puntos[j])\n",
        "                par_mas_cercano = (puntos[i], puntos[j])\n",
        "    return par_mas_cercano, distancia_minima\n",
        "\n",
        "# Función para encontrar la distancia más cercana entre los puntos de un grupo de puntos cercanos\n",
        "def grupoPuntosCercanos(grupo_puntos_cercanos, tamaño, d):\n",
        "    distancia_minima = d\n",
        "    par_mas_cercano = None\n",
        "\n",
        "    for i in range(tamaño):\n",
        "        for j in range(i+1, tamaño):\n",
        "            if (grupo_puntos_cercanos[j].y - grupo_puntos_cercanos[i].y) < distancia_minima:\n",
        "                if distancia(grupo_puntos_cercanos[i], grupo_puntos_cercanos[j]) < distancia_minima:\n",
        "                    distancia_minima = distancia(grupo_puntos_cercanos[i], grupo_puntos_cercanos[j])\n",
        "                    par_mas_cercano = (grupo_puntos_cercanos[i], grupo_puntos_cercanos[j])\n",
        "\n",
        "    return par_mas_cercano, distancia_minima\n",
        "\n",
        "# Función recursiva para encontrar la menor distancia\n",
        "def utilMasCercana(puntos_x, puntos_y, n):\n",
        "    if n <= 3:\n",
        "        return fuerzaBruta(puntos_x, n)\n",
        "\n",
        "    medio = n // 2\n",
        "    punto_medio = puntos_x[medio]\n",
        "\n",
        "    puntos_y_izq = [p for p in puntos_y if p.x <= punto_medio.x]\n",
        "    puntos_y_der = [p for p in puntos_y if p.x > punto_medio.x]\n",
        "\n",
        "    (p1, q1), distancia_izq = utilMasCercana(puntos_x[:medio], puntos_y_izq, medio)\n",
        "    (p2, q2), distancia_der = utilMasCercana(puntos_x[medio:], puntos_y_der, n - medio)\n",
        "\n",
        "    if distancia_izq < distancia_der:\n",
        "        distancia_minima = distancia_izq\n",
        "        par_mas_cercano = (p1, q1)\n",
        "    else:\n",
        "        distancia_minima = distancia_der\n",
        "        par_mas_cercano = (p2, q2)\n",
        "\n",
        "    grupo_puntos_cercanos = [p for p in puntos_y if abs(p.x - punto_medio.x) < distancia_minima]\n",
        "\n",
        "    par_grupo, distancia_grupo = grupoPuntosCercanos(grupo_puntos_cercanos, len(grupo_puntos_cercanos), distancia_minima)\n",
        "\n",
        "    if distancia_grupo < distancia_minima:\n",
        "        return par_grupo, distancia_grupo\n",
        "    else:\n",
        "        return par_mas_cercano, distancia_minima\n",
        "\n",
        "# Función principal que encuentra la menor distancia\n",
        "def masCercana(puntos, n):\n",
        "    puntos_x = sorted(puntos, key=lambda p: p.x)\n",
        "    puntos_y = sorted(puntos, key=lambda p: p.y)\n",
        "    return utilMasCercana(puntos_x, puntos_y, n)\n",
        "\n",
        "# Generar puntos aleatorios\n",
        "def generar_puntos_aleatorios(num_puntos, rango_x, rango_y):\n",
        "    return [Punto(random.uniform(*rango_x), random.uniform(*rango_y)) for _ in range(num_puntos)]\n",
        "\n",
        "# Medir el tiempo de ejecución de la función masCercana\n",
        "def medir_tiempo_ejecucion(puntos):\n",
        "    start_time = time.perf_counter()\n",
        "    puntos_mas_cercanos, distancia_mas_cercana = masCercana(puntos, len(puntos))\n",
        "    end_time = time.perf_counter()\n",
        "    return end_time - start_time, puntos_mas_cercanos, distancia_mas_cercana\n",
        "\n",
        "# Crear el gráfico\n",
        "def graficar_puntos(puntos, puntos_mas_cercanos, distancia_mas_cercana, tiempo_ejecucion):\n",
        "    x = [p.x for p in puntos]\n",
        "    y = [p.y for p in puntos]\n",
        "    plt.scatter(x, y, label='Puntos')\n",
        "\n",
        "    x_mas_cercanos = [puntos_mas_cercanos[0].x, puntos_mas_cercanos[1].x]\n",
        "    y_mas_cercanos = [puntos_mas_cercanos[0].y, puntos_mas_cercanos[1].y]\n",
        "    plt.scatter(x_mas_cercanos, y_mas_cercanos, color='red', label='Puntos más cercanos')\n",
        "    plt.plot(x_mas_cercanos, y_mas_cercanos, color='red')\n",
        "    mid_x = (x_mas_cercanos[0] + x_mas_cercanos[1]) / 2\n",
        "    mid_y = (y_mas_cercanos[0] + y_mas_cercanos[1]) / 2\n",
        "    plt.text(mid_x, mid_y, f'{distancia_mas_cercana:.2f}', color='red', fontsize=12, ha='center')\n",
        "\n",
        "    plt.xlabel('X')\n",
        "    plt.ylabel('Y')\n",
        "    plt.title(f'Puntos y el par de puntos más cercanos\\nTiempo de ejecución: {tiempo_ejecucion:.6f} segundos')\n",
        "    plt.legend()\n",
        "    plt.grid(True)\n",
        "    plt.show()\n",
        "\n",
        "# Ejecución principal\n",
        "puntos = generar_puntos_aleatorios(NUM_PUNTOS, RANGO_X, RANGO_Y)\n",
        "tiempo_ejecucion, puntos_mas_cercanos, distancia_mas_cercana = medir_tiempo_ejecucion(puntos)\n",
        "print(f\"Tamaño del conjunto de puntos: {NUM_PUNTOS}\")\n",
        "print(f\"Tiempo de ejecución: {tiempo_ejecucion:.6f} segundos\")\n",
        "print(f\"El par de puntos más cercanos es: ({puntos_mas_cercanos[0].x}, {puntos_mas_cercanos[0].y}) y ({puntos_mas_cercanos[1].x}, {puntos_mas_cercanos[1].y}) con una distancia de {distancia_mas_cercana}\\n\")\n",
        "\n",
        "graficar_puntos(puntos, puntos_mas_cercanos, distancia_mas_cercana, tiempo_ejecucion)"
      ],
      "metadata": {
        "colab": {
          "base_uri": "https://localhost:8080/",
          "height": 86
        },
        "id": "Q3KdjjtcBARe",
        "outputId": "170342c7-5bc4-4471-8036-f11c93905323"
      },
      "execution_count": null,
      "outputs": [
        {
          "output_type": "stream",
          "name": "stdout",
          "text": [
            "Tamaño del conjunto de puntos: 500\n",
            "Tiempo de ejecución: 0.004045 segundos\n",
            "El par de puntos más cercanos es: (1935.5300770700726, 311.8416715924637) y (1935.5460261209073, 312.81937540875583) con una distancia de 0.9778338941838534\n",
            "\n"
          ]
        }
      ]
    }
  ]
}