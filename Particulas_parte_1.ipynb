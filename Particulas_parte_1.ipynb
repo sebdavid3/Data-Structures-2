{
  "cells": [
    {
      "cell_type": "markdown",
      "metadata": {
        "id": "view-in-github",
        "colab_type": "text"
      },
      "source": [
        "<a href=\"https://colab.research.google.com/github/sebdavid3/Data-Structures-2/blob/main/Particulas_parte_1.ipynb\" target=\"_parent\"><img src=\"https://colab.research.google.com/assets/colab-badge.svg\" alt=\"Open In Colab\"/></a>"
      ]
    },
    {
      "cell_type": "markdown",
      "metadata": {
        "id": "8LvXSIUITY_b"
      },
      "source": [
        "Fabian Miranda NRC(2151)"
      ]
    },
    {
      "cell_type": "markdown",
      "metadata": {
        "id": "bclF9Ez8ThPb"
      },
      "source": [
        "Sebastian David Ibañez NRC (2152)"
      ]
    },
    {
      "cell_type": "code",
      "execution_count": null,
      "metadata": {
        "colab": {
          "base_uri": "https://localhost:8080/",
          "height": 122
        },
        "id": "_2-JXjWpPLvA",
        "outputId": "4940f54f-6793-452d-84d9-ceb9148b6c02"
      },
      "outputs": [
        {
          "output_type": "execute_result",
          "data": {
            "text/plain": [
              "' crear clase cuerpo celeste, debe tener masa, posicion en x inicial, posicion en y inicial,\\nvelocidad en x inicial, velocidad en y inicial, aceleracion en x, aceleracion en y, posicion en x, posicion en y,\\ncolor\\n\\nla fuerza de dos cuerpos celestes se calcula\\ncon la formula F = G * (m1 * m2) / r^2 donde G es la constante de gravitacion universal\\nm es la masa de los cuerpos celestes y r es el radio entre los cuerpos celestes\\n\\nla aceleracion de un cuerpo celeste se calcula con la formula a = F / m\\nla fuerza tiene una direccion y sentido, por lo que se debe calcular la fuerza en x y en y\\npara calcular la fuerza en x utilizamos Fx = F * (delta x / r)\\npara calcular la fuerza en y utilizamos Fy = F * (delta y / r)\\npara calcular velocidad en x utilizamos Vf = vi + F/m * delta t\\npara calcular la posicion en x utilizamos Pf = Pi + Vf * delta t\\n\\nconstante UA = 149597870.7\\nconstante G = 6.674 * 10^-11\\nEscala 100 pixeles = 250/ 1 UA\\nmasa del sol = 1.989 * 10^30 kg\\nmasa de la tierra = 5.972 * 10^24 kg\\nvelocidad de la tierra = 29.78 km/s\\n\\n\\nDist2Sun(posy)     posx        velx\\t   Vely        mass\\t     Celestial Body\\n1.4960e+11  \\t   0.0000e+00  0.0000e+00  2.9800e+04  5.9740e+24    earth\\n2.2790e+11  \\t   0.0000e+00  0.0000e+00  2.4100e+04  6.4190e+23    mars-\\n5.7900e+10  \\t   0.0000e+00  0.0000e+00  4.7900e+04  3.3020e+23    mercury\\n0.0000e+00  \\t   0.0000e+00  0.0000e+00  0.0000e+00  1.9890e+30    sun\\n1.0820e+11  \\t   0.0000e+00  0.0000e+00  3.5000e+04  4.8690e+24    venus  '"
            ],
            "application/vnd.google.colaboratory.intrinsic+json": {
              "type": "string"
            }
          },
          "metadata": {},
          "execution_count": 1
        }
      ],
      "source": [
        "''' crear clase cuerpo celeste, debe tener masa, posicion en x inicial, posicion en y inicial,\n",
        "velocidad en x inicial, velocidad en y inicial, aceleracion en x, aceleracion en y, posicion en x, posicion en y,\n",
        "color\n",
        "\n",
        "la fuerza de dos cuerpos celestes se calcula\n",
        "con la formula F = G * (m1 * m2) / r^2 donde G es la constante de gravitacion universal\n",
        "m es la masa de los cuerpos celestes y r es el radio entre los cuerpos celestes\n",
        "\n",
        "la aceleracion de un cuerpo celeste se calcula con la formula a = F / m\n",
        "la fuerza tiene una direccion y sentido, por lo que se debe calcular la fuerza en x y en y\n",
        "para calcular la fuerza en x utilizamos Fx = F * (delta x / r)\n",
        "para calcular la fuerza en y utilizamos Fy = F * (delta y / r)\n",
        "para calcular velocidad en x utilizamos Vf = vi + F/m * delta t\n",
        "para calcular la posicion en x utilizamos Pf = Pi + Vf * delta t\n",
        "\n",
        "constante UA = 149597870.7\n",
        "constante G = 6.674 * 10^-11\n",
        "Escala 100 pixeles = 250/ 1 UA\n",
        "masa del sol = 1.989 * 10^30 kg\n",
        "masa de la tierra = 5.972 * 10^24 kg\n",
        "velocidad de la tierra = 29.78 km/s\n",
        "\n",
        "\n",
        "Dist2Sun(posy)     posx        velx\t   Vely        mass\t     Celestial Body\n",
        "1.4960e+11  \t   0.0000e+00  0.0000e+00  2.9800e+04  5.9740e+24    earth\n",
        "2.2790e+11  \t   0.0000e+00  0.0000e+00  2.4100e+04  6.4190e+23    mars-\n",
        "5.7900e+10  \t   0.0000e+00  0.0000e+00  4.7900e+04  3.3020e+23    mercury\n",
        "0.0000e+00  \t   0.0000e+00  0.0000e+00  0.0000e+00  1.9890e+30    sun\n",
        "1.0820e+11  \t   0.0000e+00  0.0000e+00  3.5000e+04  4.8690e+24    venus  '''"
      ]
    },
    {
      "cell_type": "code",
      "execution_count": null,
      "metadata": {
        "colab": {
          "background_save": true,
          "base_uri": "https://localhost:8080/",
          "height": 472
        },
        "id": "lCVhEruvO4EY",
        "outputId": "00ff464f-73ba-4555-c2aa-b97ad527e82f"
      },
      "outputs": [
        {
          "data": {
            "image/png": "[encoded data removed]",
            "text/plain": [
              "<Figure size 640x480 with 1 Axes>"
            ]
          },
          "metadata": {},
          "output_type": "display_data"
        }
      ],
      "source": [
        "import numpy as np\n",
        "import matplotlib.pyplot as plt\n",
        "from IPython.display import display, clear_output\n",
        "\n",
        "# Definición de la clase CuerpoCeleste\n",
        "class CuerpoCeleste:\n",
        "    def __init__(self, masa, pos_x, pos_y, vel_x, vel_y, color):\n",
        "        self.masa = masa\n",
        "        self.pos_x = pos_x\n",
        "        self.pos_y = pos_y\n",
        "        self.vel_x = vel_x\n",
        "        self.vel_y = vel_y\n",
        "        self.acel_x = 0\n",
        "        self.acel_y = 0\n",
        "        self.color = color\n",
        "\n",
        "    def actualizar_aceleracion(self, otros_cuerpos):\n",
        "        G = 6.674 * 10**-11  # Constante de gravitación universal\n",
        "        self.acel_x = 0\n",
        "        self.acel_y = 0\n",
        "        for otro in otros_cuerpos:\n",
        "            if otro != self:\n",
        "                delta_x = otro.pos_x - self.pos_x\n",
        "                delta_y = otro.pos_y - self.pos_y\n",
        "                r = np.sqrt(delta_x**2 + delta_y**2)\n",
        "                epsilon = 1e-10  # Evitar división por cero\n",
        "                F = G * self.masa * otro.masa / (r**2 + epsilon)\n",
        "                self.acel_x += F * delta_x / r / self.masa\n",
        "                self.acel_y += F * delta_y / r / self.masa\n",
        "\n",
        "    def actualizar_velocidad(self, delta_t):\n",
        "        self.vel_x += self.acel_x * delta_t\n",
        "        self.vel_y += self.acel_y * delta_t\n",
        "\n",
        "    def actualizar_posicion(self, delta_t):\n",
        "        self.pos_x += self.vel_x * delta_t\n",
        "        self.pos_y += self.vel_y * delta_t\n",
        "\n",
        "def emular_movimiento(tiempo_total, delta_t):\n",
        "    UA = 149597870.7 * 1000\n",
        "    escala = 250 / UA\n",
        "    sol = CuerpoCeleste(1.989 * 10**30, 0, 0, 0, 0, 'yellow')\n",
        "    tierra = CuerpoCeleste(5.972 * 10**24, UA, 0, 0, 29780, 'blue')\n",
        "    cuerpos = [sol, tierra]\n",
        "\n",
        "    fig, ax = plt.subplots()\n",
        "    ax.set_xlim(-2 * UA * escala, 2 * UA * escala)\n",
        "    ax.set_ylim(-2 * UA * escala, 2 * UA * escala)\n",
        "    ax.set_aspect('equal', adjustable='box')\n",
        "    ax.set_xlabel('Posición X (UA)')\n",
        "    ax.set_ylabel('Posición Y (UA)')\n",
        "    ax.set_title('Sistema Solar')\n",
        "    plots = {}\n",
        "    for cuerpo in cuerpos:\n",
        "        plots[cuerpo] = ax.plot([], [], 'o', color=cuerpo.color, markersize=5)[0]\n",
        "\n",
        "    # Emulacion del movimiento\n",
        "    for _ in range(int(tiempo_total / delta_t)):\n",
        "        for cuerpo in cuerpos:\n",
        "            cuerpo.actualizar_aceleracion(cuerpos)\n",
        "        for cuerpo in cuerpos:\n",
        "            cuerpo.actualizar_velocidad(delta_t)\n",
        "            cuerpo.actualizar_posicion(delta_t)\n",
        "        for cuerpo in cuerpos:\n",
        "            plots[cuerpo].set_data([cuerpo.pos_x * escala], [cuerpo.pos_y * escala])\n",
        "\n",
        "        clear_output(wait=True)\n",
        "        display(fig)\n",
        "        plt.pause(0.0001)\n",
        "\n",
        "    plt.show()\n",
        "\n",
        "emular_movimiento(365 * 24 * 3600, 24 * 3600)\n"
      ]
    }
  ],
  "metadata": {
    "colab": {
      "provenance": [],
      "include_colab_link": true
    },
    "kernelspec": {
      "display_name": "Python 3",
      "name": "python3"
    },
    "language_info": {
      "name": "python"
    }
  },
  "nbformat": 4,
  "nbformat_minor": 0
}